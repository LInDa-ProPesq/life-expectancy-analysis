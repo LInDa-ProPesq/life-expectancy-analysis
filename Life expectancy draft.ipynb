{
 "cells": [
  {
   "cell_type": "code",
   "execution_count": 432,
   "metadata": {
    "collapsed": true
   },
   "outputs": [],
   "source": [
    "import numpy as np\n",
    "from pandas import Series, DataFrame\n",
    "import pandas as pd\n",
    "import statistics as stats"
   ]
  },
  {
   "cell_type": "code",
   "execution_count": 415,
   "metadata": {
    "collapsed": false
   },
   "outputs": [],
   "source": [
    "# Life expectancy (http://apps.who.int/gho/data/node.main.688?lang=en) - chosen 2015\n",
    "url = \"http://apps.who.int/gho/athena/data/xmart.csv?target=GHO/WHOSIS_000001,WHOSIS_000015&profile=crosstable&filter=COUNTRY:*&x-sideaxis=COUNTRY;YEAR&x-topaxis=GHO;SEX\"\n",
    "life = pd.read_csv(url) \n",
    "life = life.ix[1:,0:3]\n",
    "life.columns = ['Country', 'Year', 'LifeExpectancy']\n",
    "life['Year'] = life['Year'].apply(lambda x: pd.to_numeric(x, errors ='coerce')) \n",
    "life['LifeExpectancy'] = life['LifeExpectancy'].apply(lambda x: pd.to_numeric(x, errors ='coerce')) \n",
    "life = life.loc[life['Year'] == 2015]\n",
    "del life['Year']"
   ]
  },
  {
   "cell_type": "code",
   "execution_count": 416,
   "metadata": {
    "collapsed": false
   },
   "outputs": [
    {
     "data": {
      "text/html": [
       "<div>\n",
       "<table border=\"1\" class=\"dataframe\">\n",
       "  <thead>\n",
       "    <tr style=\"text-align: right;\">\n",
       "      <th></th>\n",
       "      <th>Country</th>\n",
       "      <th>LifeExpectancy</th>\n",
       "    </tr>\n",
       "  </thead>\n",
       "  <tbody>\n",
       "    <tr>\n",
       "      <th>1</th>\n",
       "      <td>Afghanistan</td>\n",
       "      <td>60.5</td>\n",
       "    </tr>\n",
       "    <tr>\n",
       "      <th>18</th>\n",
       "      <td>Albania</td>\n",
       "      <td>77.8</td>\n",
       "    </tr>\n",
       "    <tr>\n",
       "      <th>35</th>\n",
       "      <td>Algeria</td>\n",
       "      <td>75.6</td>\n",
       "    </tr>\n",
       "    <tr>\n",
       "      <th>56</th>\n",
       "      <td>Angola</td>\n",
       "      <td>52.4</td>\n",
       "    </tr>\n",
       "    <tr>\n",
       "      <th>73</th>\n",
       "      <td>Antigua and Barbuda</td>\n",
       "      <td>76.4</td>\n",
       "    </tr>\n",
       "  </tbody>\n",
       "</table>\n",
       "</div>"
      ],
      "text/plain": [
       "                Country  LifeExpectancy\n",
       "1           Afghanistan            60.5\n",
       "18              Albania            77.8\n",
       "35              Algeria            75.6\n",
       "56               Angola            52.4\n",
       "73  Antigua and Barbuda            76.4"
      ]
     },
     "execution_count": 416,
     "metadata": {},
     "output_type": "execute_result"
    }
   ],
   "source": [
    "life.head(5)"
   ]
  },
  {
   "cell_type": "code",
   "execution_count": 417,
   "metadata": {
    "collapsed": false
   },
   "outputs": [
    {
     "data": {
      "text/plain": [
       "Country            object\n",
       "LifeExpectancy    float64\n",
       "dtype: object"
      ]
     },
     "execution_count": 417,
     "metadata": {},
     "output_type": "execute_result"
    }
   ],
   "source": [
    "life.dtypes"
   ]
  },
  {
   "cell_type": "code",
   "execution_count": 425,
   "metadata": {
    "collapsed": false
   },
   "outputs": [],
   "source": [
    "# Smoking status (http://apps.who.int/gho/data/node.main.1250?lang=en) - 2013, only value\n",
    "url = \"http://apps.who.int/gho/athena/data/xmart.csv?target=GHO/M_Est_tob_curr,M_Est_tob_daily,M_Est_cig_curr,M_Est_cig_daily&profile=crosstable&filter=COUNTRY:*;SEX:*&x-sideaxis=COUNTRY;YEAR&x-topaxis=GHO;SEX\"\n",
    "smoking = pd.read_csv(url)\n",
    "smoking = smoking.ix[1:,0:3]\n",
    "del smoking['Unnamed: 1']\n",
    "smoking.columns = ['Country', 'Smoking']\n",
    "smoking['Smoking'] = smoking['Smoking'].apply(lambda x: pd.to_numeric(x, errors ='coerce')) "
   ]
  },
  {
   "cell_type": "code",
   "execution_count": 426,
   "metadata": {
    "collapsed": false
   },
   "outputs": [
    {
     "data": {
      "text/html": [
       "<div>\n",
       "<table border=\"1\" class=\"dataframe\">\n",
       "  <thead>\n",
       "    <tr style=\"text-align: right;\">\n",
       "      <th></th>\n",
       "      <th>Country</th>\n",
       "      <th>Smoking</th>\n",
       "    </tr>\n",
       "  </thead>\n",
       "  <tbody>\n",
       "    <tr>\n",
       "      <th>1</th>\n",
       "      <td>Afghanistan</td>\n",
       "      <td>NaN</td>\n",
       "    </tr>\n",
       "    <tr>\n",
       "      <th>2</th>\n",
       "      <td>Albania</td>\n",
       "      <td>29.7</td>\n",
       "    </tr>\n",
       "    <tr>\n",
       "      <th>3</th>\n",
       "      <td>Algeria</td>\n",
       "      <td>NaN</td>\n",
       "    </tr>\n",
       "    <tr>\n",
       "      <th>4</th>\n",
       "      <td>Andorra</td>\n",
       "      <td>33.1</td>\n",
       "    </tr>\n",
       "    <tr>\n",
       "      <th>5</th>\n",
       "      <td>Angola</td>\n",
       "      <td>NaN</td>\n",
       "    </tr>\n",
       "  </tbody>\n",
       "</table>\n",
       "</div>"
      ],
      "text/plain": [
       "       Country  Smoking\n",
       "1  Afghanistan      NaN\n",
       "2      Albania     29.7\n",
       "3      Algeria      NaN\n",
       "4      Andorra     33.1\n",
       "5       Angola      NaN"
      ]
     },
     "execution_count": 426,
     "metadata": {},
     "output_type": "execute_result"
    }
   ],
   "source": [
    "smoking.head(5)"
   ]
  },
  {
   "cell_type": "code",
   "execution_count": 385,
   "metadata": {
    "collapsed": false
   },
   "outputs": [
    {
     "data": {
      "text/plain": [
       "Country      0\n",
       "AlcType      0\n",
       "2015       964\n",
       "2014       504\n",
       "2013       339\n",
       "2012       342\n",
       "2011        54\n",
       "2010        16\n",
       "2009        14\n",
       "2008        14\n",
       "2007        14\n",
       "2006         9\n",
       "2005         8\n",
       "2004        14\n",
       "2003        14\n",
       "2002        19\n",
       "2001        19\n",
       "2000        18\n",
       "dtype: int64"
      ]
     },
     "execution_count": 385,
     "metadata": {},
     "output_type": "execute_result"
    }
   ],
   "source": [
    "# Alcohol (http://apps.who.int/gho/data/node.main.A1026?lang=en) - 2010 was used\n",
    "url = \"http://apps.who.int/gho/athena/data/xmart.csv?target=GHO/SA_0000001400&profile=crosstable&filter=COUNTRY:*;YEAR:2015;YEAR:2014;YEAR:2013;YEAR:2012;YEAR:2011;YEAR:2010;YEAR:2009;YEAR:2008;YEAR:2007;YEAR:2006;YEAR:2005;YEAR:2004;YEAR:2003;YEAR:2002;YEAR:2001;YEAR:2000&x-sideaxis=COUNTRY;DATASOURCE;ALCOHOLTYPE&x-topaxis=GHO;YEAR\"\n",
    "alcohol = pd.read_csv(url)\n",
    "del alcohol['Unnamed: 1']\n",
    "alcohol = alcohol.ix[1:]\n",
    "alcohol.columns = ['Country', 'AlcType', '2015', '2014', '2013', '2012', '2011', '2010', '2009', '2008',\n",
    "                  '2007', '2006', '2005', '2004', '2003', '2002', '2001', '2000']\n",
    "alcohol.head(5)\n",
    "alcohol.isnull().sum() # Finding most complete recent year - 2010 looks like it"
   ]
  },
  {
   "cell_type": "code",
   "execution_count": 386,
   "metadata": {
    "collapsed": false
   },
   "outputs": [],
   "source": [
    "alcohol.ix[:, 7:] = alcohol.ix[:, 7:].apply(lambda x: pd.to_numeric(x, errors ='coerce')) \n",
    "alcohol = pd.melt(alcohol, id_vars=['Country', 'AlcType'], \n",
    "                  value_vars=['2015', '2014', '2013', '2012', '2011', '2010', '2009', '2008',\n",
    "                              '2007', '2006', '2005', '2004', '2003', '2002', '2001', '2000'])"
   ]
  },
  {
   "cell_type": "code",
   "execution_count": 387,
   "metadata": {
    "collapsed": false
   },
   "outputs": [
    {
     "data": {
      "text/html": [
       "<div>\n",
       "<table border=\"1\" class=\"dataframe\">\n",
       "  <thead>\n",
       "    <tr style=\"text-align: right;\">\n",
       "      <th></th>\n",
       "      <th>Country</th>\n",
       "      <th>AlcConsumption</th>\n",
       "    </tr>\n",
       "  </thead>\n",
       "  <tbody>\n",
       "    <tr>\n",
       "      <th>4920</th>\n",
       "      <td>Afghanistan</td>\n",
       "      <td>0.01</td>\n",
       "    </tr>\n",
       "    <tr>\n",
       "      <th>4925</th>\n",
       "      <td>Albania</td>\n",
       "      <td>5.28</td>\n",
       "    </tr>\n",
       "    <tr>\n",
       "      <th>4930</th>\n",
       "      <td>Algeria</td>\n",
       "      <td>0.45</td>\n",
       "    </tr>\n",
       "    <tr>\n",
       "      <th>4935</th>\n",
       "      <td>Andorra</td>\n",
       "      <td>10.60</td>\n",
       "    </tr>\n",
       "    <tr>\n",
       "      <th>4940</th>\n",
       "      <td>Angola</td>\n",
       "      <td>7.80</td>\n",
       "    </tr>\n",
       "  </tbody>\n",
       "</table>\n",
       "</div>"
      ],
      "text/plain": [
       "          Country  AlcConsumption\n",
       "4920  Afghanistan            0.01\n",
       "4925      Albania            5.28\n",
       "4930      Algeria            0.45\n",
       "4935      Andorra           10.60\n",
       "4940       Angola            7.80"
      ]
     },
     "execution_count": 387,
     "metadata": {},
     "output_type": "execute_result"
    }
   ],
   "source": [
    "alcohol.columns = ['Country', 'AlcType', 'Year', 'AlcConsumption']\n",
    "alcohol['Year'] = alcohol['Year'].apply(lambda x: pd.to_numeric(x, errors ='coerce')) \n",
    "alcohol = alcohol.loc[alcohol['Year'] == 2010]\n",
    "alcohol = alcohol[alcohol['AlcType'].str.contains(\"All types\")]\n",
    "del alcohol['AlcType']\n",
    "del alcohol['Year']\n",
    "alcohol.head(5)"
   ]
  },
  {
   "cell_type": "code",
   "execution_count": 333,
   "metadata": {
    "collapsed": false
   },
   "outputs": [],
   "source": [
    "# Overweight (http://apps.who.int/gho/data/node.main.A897A?lang=en)\n",
    "url = \"http://apps.who.int/gho/athena/data/xmart.csv?target=GHO/NCD_BMI_25A&profile=crosstable&filter=AGEGROUP:*;COUNTRY:*;SEX:*&x-sideaxis=COUNTRY&x-topaxis=GHO;YEAR;AGEGROUP;SEX\"\n",
    "oweight = pd.read_csv(url)\n",
    "oweight = oweight.ix[3:,0:2]\n",
    "oweight.columns = ['Country', 'Overweight']\n",
    "\n",
    "oweight['Overweight'] = oweight['Overweight'].apply(lambda x: x.split(' [')[0])\n",
    "oweight['Overweight'] = oweight['Overweight'].apply(lambda x: pd.to_numeric(x, errors ='coerce')) "
   ]
  },
  {
   "cell_type": "code",
   "execution_count": 334,
   "metadata": {
    "collapsed": false
   },
   "outputs": [
    {
     "data": {
      "text/html": [
       "<div>\n",
       "<table border=\"1\" class=\"dataframe\">\n",
       "  <thead>\n",
       "    <tr style=\"text-align: right;\">\n",
       "      <th></th>\n",
       "      <th>Country</th>\n",
       "      <th>Overweight</th>\n",
       "    </tr>\n",
       "  </thead>\n",
       "  <tbody>\n",
       "    <tr>\n",
       "      <th>3</th>\n",
       "      <td>Afghanistan</td>\n",
       "      <td>16.2</td>\n",
       "    </tr>\n",
       "    <tr>\n",
       "      <th>4</th>\n",
       "      <td>Albania</td>\n",
       "      <td>52.7</td>\n",
       "    </tr>\n",
       "    <tr>\n",
       "      <th>5</th>\n",
       "      <td>Algeria</td>\n",
       "      <td>59.1</td>\n",
       "    </tr>\n",
       "    <tr>\n",
       "      <th>6</th>\n",
       "      <td>Andorra</td>\n",
       "      <td>66.9</td>\n",
       "    </tr>\n",
       "    <tr>\n",
       "      <th>7</th>\n",
       "      <td>Angola</td>\n",
       "      <td>30.9</td>\n",
       "    </tr>\n",
       "  </tbody>\n",
       "</table>\n",
       "</div>"
      ],
      "text/plain": [
       "       Country  Overweight\n",
       "3  Afghanistan        16.2\n",
       "4      Albania        52.7\n",
       "5      Algeria        59.1\n",
       "6      Andorra        66.9\n",
       "7       Angola        30.9"
      ]
     },
     "execution_count": 334,
     "metadata": {},
     "output_type": "execute_result"
    }
   ],
   "source": [
    "oweight.head(5)"
   ]
  },
  {
   "cell_type": "code",
   "execution_count": 336,
   "metadata": {
    "collapsed": false
   },
   "outputs": [],
   "source": [
    "# Physical activity (http://apps.who.int/gho/data/node.main.A893?lang=en)\n",
    "url = \"http://apps.who.int/gho/athena/data/xmart.csv?target=GHO/NCD_PAC,NCD_PAA&profile=crosstable&filter=AGEGROUP:YEARS18-PLUS;COUNTRY:*;SEX:*;&x-sideaxis=COUNTRY;YEAR;AGEGROUP&x-topaxis=GHO;SEX\"\n",
    "exercise = pd.read_csv(url)\n",
    "del exercise['Unnamed: 2']\n",
    "exercise = exercise.ix[1:, :3]\n",
    "exercise.columns = ['Country', 'Year', 'LowExercise']\n",
    "del exercise['Year']\n",
    "\n",
    "exercise['LowExercise'] = exercise['LowExercise'].apply(lambda x: x.split(' [')[0])\n",
    "exercise['LowExercise'] = exercise['LowExercise'].apply(lambda x: pd.to_numeric(x, errors ='coerce')) "
   ]
  },
  {
   "cell_type": "code",
   "execution_count": 337,
   "metadata": {
    "collapsed": false
   },
   "outputs": [
    {
     "data": {
      "text/html": [
       "<div>\n",
       "<table border=\"1\" class=\"dataframe\">\n",
       "  <thead>\n",
       "    <tr style=\"text-align: right;\">\n",
       "      <th></th>\n",
       "      <th>Country</th>\n",
       "      <th>LowExercise</th>\n",
       "    </tr>\n",
       "  </thead>\n",
       "  <tbody>\n",
       "    <tr>\n",
       "      <th>1</th>\n",
       "      <td>Afghanistan</td>\n",
       "      <td>NaN</td>\n",
       "    </tr>\n",
       "    <tr>\n",
       "      <th>2</th>\n",
       "      <td>Albania</td>\n",
       "      <td>NaN</td>\n",
       "    </tr>\n",
       "    <tr>\n",
       "      <th>3</th>\n",
       "      <td>Algeria</td>\n",
       "      <td>34.4</td>\n",
       "    </tr>\n",
       "    <tr>\n",
       "      <th>4</th>\n",
       "      <td>Andorra</td>\n",
       "      <td>26.1</td>\n",
       "    </tr>\n",
       "    <tr>\n",
       "      <th>5</th>\n",
       "      <td>Angola</td>\n",
       "      <td>NaN</td>\n",
       "    </tr>\n",
       "  </tbody>\n",
       "</table>\n",
       "</div>"
      ],
      "text/plain": [
       "       Country  LowExercise\n",
       "1  Afghanistan          NaN\n",
       "2      Albania          NaN\n",
       "3      Algeria         34.4\n",
       "4      Andorra         26.1\n",
       "5       Angola          NaN"
      ]
     },
     "execution_count": 337,
     "metadata": {},
     "output_type": "execute_result"
    }
   ],
   "source": [
    "exercise.head(5)"
   ]
  },
  {
   "cell_type": "code",
   "execution_count": 338,
   "metadata": {
    "collapsed": true
   },
   "outputs": [],
   "source": [
    "# Cholesterol (http://apps.who.int/gho/data/node.main.A884?lang=en) - 2008\n",
    "url = \"http://apps.who.int/gho/athena/data/xmart.csv?target=GHO/CHOL_01,CHOL_02&profile=crosstable&filter=AGEGROUP:*;COUNTRY:*;SEX:*&x-sideaxis=COUNTRY;YEAR;AGEGROUP&x-topaxis=GHO;SEX\"\n",
    "chol = pd.read_csv(url)\n",
    "del chol['Unnamed: 2']\n",
    "chol = chol.ix[1:, :3]\n",
    "chol.columns = ['Country', 'Year', 'Cholesterol']\n",
    "del chol['Year']\n",
    "\n",
    "chol['Cholesterol'] = chol['Cholesterol'].apply(lambda x: x.split(' [')[0])\n",
    "chol['Cholesterol'] = chol['Cholesterol'].apply(lambda x: pd.to_numeric(x, errors ='coerce')) "
   ]
  },
  {
   "cell_type": "code",
   "execution_count": 339,
   "metadata": {
    "collapsed": false
   },
   "outputs": [
    {
     "data": {
      "text/html": [
       "<div>\n",
       "<table border=\"1\" class=\"dataframe\">\n",
       "  <thead>\n",
       "    <tr style=\"text-align: right;\">\n",
       "      <th></th>\n",
       "      <th>Country</th>\n",
       "      <th>Cholesterol</th>\n",
       "    </tr>\n",
       "  </thead>\n",
       "  <tbody>\n",
       "    <tr>\n",
       "      <th>1</th>\n",
       "      <td>Afghanistan</td>\n",
       "      <td>21.9</td>\n",
       "    </tr>\n",
       "    <tr>\n",
       "      <th>2</th>\n",
       "      <td>Albania</td>\n",
       "      <td>45.3</td>\n",
       "    </tr>\n",
       "    <tr>\n",
       "      <th>3</th>\n",
       "      <td>Algeria</td>\n",
       "      <td>39.4</td>\n",
       "    </tr>\n",
       "    <tr>\n",
       "      <th>4</th>\n",
       "      <td>Andorra</td>\n",
       "      <td>67.1</td>\n",
       "    </tr>\n",
       "    <tr>\n",
       "      <th>5</th>\n",
       "      <td>Angola</td>\n",
       "      <td>30.9</td>\n",
       "    </tr>\n",
       "  </tbody>\n",
       "</table>\n",
       "</div>"
      ],
      "text/plain": [
       "       Country  Cholesterol\n",
       "1  Afghanistan         21.9\n",
       "2      Albania         45.3\n",
       "3      Algeria         39.4\n",
       "4      Andorra         67.1\n",
       "5       Angola         30.9"
      ]
     },
     "execution_count": 339,
     "metadata": {},
     "output_type": "execute_result"
    }
   ],
   "source": [
    "chol.head(5)"
   ]
  },
  {
   "cell_type": "code",
   "execution_count": 400,
   "metadata": {
    "collapsed": true
   },
   "outputs": [],
   "source": [
    "# Blood sugar (http://apps.who.int/gho/data/node.main.A869?lang=en) - 2014\n",
    "url = \"http://apps.who.int/gho/athena/data/xmart.csv?target=GHO/NCD_GLUC_03,NCD_GLUC_04&profile=crosstable&filter=AGEGROUP:*;COUNTRY:*;SEX:*&x-sideaxis=COUNTRY;YEAR;AGEGROUP&x-topaxis=GHO;SEX\"\n",
    "bsugar = pd.read_csv(url)\n",
    "del bsugar['Unnamed: 2']\n",
    "bsugar = bsugar.ix[1:, :3]\n",
    "bsugar.columns = ['Country', 'Year', 'BloodSugar']\n",
    "\n",
    "bsugar['BloodSugar'] = bsugar['BloodSugar'].apply(lambda x: x.split(' [')[0])\n",
    "bsugar['BloodSugar'] = bsugar['BloodSugar'].apply(lambda x: pd.to_numeric(x, errors ='coerce')) \n",
    "bsugar = bsugar.loc[bsugar['Year'].str.contains(\"2014\")]\n",
    "del bsugar['Year']"
   ]
  },
  {
   "cell_type": "code",
   "execution_count": 401,
   "metadata": {
    "collapsed": false
   },
   "outputs": [
    {
     "data": {
      "text/html": [
       "<div>\n",
       "<table border=\"1\" class=\"dataframe\">\n",
       "  <thead>\n",
       "    <tr style=\"text-align: right;\">\n",
       "      <th></th>\n",
       "      <th>Country</th>\n",
       "      <th>BloodSugar</th>\n",
       "    </tr>\n",
       "  </thead>\n",
       "  <tbody>\n",
       "    <tr>\n",
       "      <th>1</th>\n",
       "      <td>Afghanistan</td>\n",
       "      <td>8.4</td>\n",
       "    </tr>\n",
       "    <tr>\n",
       "      <th>3</th>\n",
       "      <td>Albania</td>\n",
       "      <td>8.3</td>\n",
       "    </tr>\n",
       "    <tr>\n",
       "      <th>5</th>\n",
       "      <td>Algeria</td>\n",
       "      <td>10.5</td>\n",
       "    </tr>\n",
       "    <tr>\n",
       "      <th>7</th>\n",
       "      <td>Andorra</td>\n",
       "      <td>9.1</td>\n",
       "    </tr>\n",
       "    <tr>\n",
       "      <th>9</th>\n",
       "      <td>Angola</td>\n",
       "      <td>5.6</td>\n",
       "    </tr>\n",
       "  </tbody>\n",
       "</table>\n",
       "</div>"
      ],
      "text/plain": [
       "       Country  BloodSugar\n",
       "1  Afghanistan         8.4\n",
       "3      Albania         8.3\n",
       "5      Algeria        10.5\n",
       "7      Andorra         9.1\n",
       "9       Angola         5.6"
      ]
     },
     "execution_count": 401,
     "metadata": {},
     "output_type": "execute_result"
    }
   ],
   "source": [
    "bsugar.head(5)"
   ]
  },
  {
   "cell_type": "code",
   "execution_count": 420,
   "metadata": {
    "collapsed": false
   },
   "outputs": [],
   "source": [
    "# Unsafe water, sanitation and hygiene (http://apps.who.int/gho/data/node.main.167?lang=en)\n",
    "url = \"http://apps.who.int/gho/athena/data/xmart.csv?target=GHO/WHS5_122,WHS5_158&profile=crosstable&filter=COUNTRY:*;RESIDENCEAREATYPE:*&x-sideaxis=COUNTRY;YEAR&x-topaxis=GHO;RESIDENCEAREATYPE\"\n",
    "sanitation = pd.read_csv(url)\n",
    "sanitation = sanitation[['Unnamed: 0', 'Unnamed: 1',\n",
    "                        'Population using improved drinking-water sources (%).2',\n",
    "                        'Population using improved sanitation facilities (%).2']]\n",
    "sanitation = sanitation.ix[1:,]\n",
    "sanitation.columns = ['Country', 'Year', 'ImprovedWater', 'ImprovedSanitation']\n",
    "sanitation['Year'] = sanitation['Year'].apply(lambda x: pd.to_numeric(x, errors ='coerce')) \n",
    "sanitation['ImprovedWater'] = sanitation['ImprovedWater'].apply(lambda x: pd.to_numeric(x, errors ='coerce'))\n",
    "sanitation['ImprovedSanitation'] = sanitation['ImprovedSanitation'].apply(lambda x: pd.to_numeric(x, errors ='coerce'))\n",
    "sanitation = sanitation.loc[sanitation['Year'] == 2015]\n",
    "del sanitation['Year']"
   ]
  },
  {
   "cell_type": "code",
   "execution_count": 421,
   "metadata": {
    "collapsed": false
   },
   "outputs": [
    {
     "data": {
      "text/html": [
       "<div>\n",
       "<table border=\"1\" class=\"dataframe\">\n",
       "  <thead>\n",
       "    <tr style=\"text-align: right;\">\n",
       "      <th></th>\n",
       "      <th>Country</th>\n",
       "      <th>ImprovedWater</th>\n",
       "      <th>ImprovedSanitation</th>\n",
       "    </tr>\n",
       "  </thead>\n",
       "  <tbody>\n",
       "    <tr>\n",
       "      <th>1</th>\n",
       "      <td>Afghanistan</td>\n",
       "      <td>55.3</td>\n",
       "      <td>31.9</td>\n",
       "    </tr>\n",
       "    <tr>\n",
       "      <th>3</th>\n",
       "      <td>Albania</td>\n",
       "      <td>95.1</td>\n",
       "      <td>93.2</td>\n",
       "    </tr>\n",
       "    <tr>\n",
       "      <th>6</th>\n",
       "      <td>Algeria</td>\n",
       "      <td>83.6</td>\n",
       "      <td>87.6</td>\n",
       "    </tr>\n",
       "    <tr>\n",
       "      <th>9</th>\n",
       "      <td>Andorra</td>\n",
       "      <td>100.0</td>\n",
       "      <td>100.0</td>\n",
       "    </tr>\n",
       "    <tr>\n",
       "      <th>12</th>\n",
       "      <td>Angola</td>\n",
       "      <td>49.0</td>\n",
       "      <td>51.6</td>\n",
       "    </tr>\n",
       "  </tbody>\n",
       "</table>\n",
       "</div>"
      ],
      "text/plain": [
       "        Country  ImprovedWater  ImprovedSanitation\n",
       "1   Afghanistan           55.3                31.9\n",
       "3       Albania           95.1                93.2\n",
       "6       Algeria           83.6                87.6\n",
       "9       Andorra          100.0               100.0\n",
       "12       Angola           49.0                51.6"
      ]
     },
     "execution_count": 421,
     "metadata": {},
     "output_type": "execute_result"
    }
   ],
   "source": [
    "sanitation.head(5)"
   ]
  },
  {
   "cell_type": "code",
   "execution_count": 346,
   "metadata": {
    "collapsed": false
   },
   "outputs": [],
   "source": [
    "# Maternal deaths (http://apps.who.int/gho/data/node.main.MATMORT?lang=en)\n",
    "url = \"http://apps.who.int/gho/athena/data/xmart.csv?target=GHO/MDG_0000000026,MORT_MATERNALNUM&profile=crosstable&filter=COUNTRY:*;REGION:*&x-sideaxis=COUNTRY;YEAR&x-topaxis=GHO\"\n",
    "maternal = pd.read_csv(url)\n",
    "maternal = maternal.ix[:, :3]\n",
    "maternal.columns = ['Country', 'Year', 'MaternalDeaths']\n",
    "\n",
    "maternal['MaternalDeaths'] = maternal['MaternalDeaths'].str.replace(' ', '')\n",
    "maternal['MaternalDeaths'] = maternal['MaternalDeaths'].apply(lambda x: x.split('[')[0])\n",
    "maternal['MaternalDeaths'] = maternal['MaternalDeaths'].apply(lambda x: pd.to_numeric(x, errors ='coerce')) \n",
    "\n",
    "maternal['Year'] = maternal['Year'].apply(lambda x: pd.to_numeric(x, errors ='coerce')) \n",
    "maternal = maternal.loc[maternal['Year'] == 2015]\n",
    "del maternal['Year']"
   ]
  },
  {
   "cell_type": "code",
   "execution_count": 347,
   "metadata": {
    "collapsed": false
   },
   "outputs": [
    {
     "data": {
      "text/html": [
       "<div>\n",
       "<table border=\"1\" class=\"dataframe\">\n",
       "  <thead>\n",
       "    <tr style=\"text-align: right;\">\n",
       "      <th></th>\n",
       "      <th>Country</th>\n",
       "      <th>MaternalDeaths</th>\n",
       "    </tr>\n",
       "  </thead>\n",
       "  <tbody>\n",
       "    <tr>\n",
       "      <th>0</th>\n",
       "      <td>Afghanistan</td>\n",
       "      <td>396</td>\n",
       "    </tr>\n",
       "    <tr>\n",
       "      <th>3</th>\n",
       "      <td>Albania</td>\n",
       "      <td>29</td>\n",
       "    </tr>\n",
       "    <tr>\n",
       "      <th>6</th>\n",
       "      <td>Algeria</td>\n",
       "      <td>140</td>\n",
       "    </tr>\n",
       "    <tr>\n",
       "      <th>9</th>\n",
       "      <td>Angola</td>\n",
       "      <td>477</td>\n",
       "    </tr>\n",
       "    <tr>\n",
       "      <th>12</th>\n",
       "      <td>Argentina</td>\n",
       "      <td>52</td>\n",
       "    </tr>\n",
       "  </tbody>\n",
       "</table>\n",
       "</div>"
      ],
      "text/plain": [
       "        Country  MaternalDeaths\n",
       "0   Afghanistan             396\n",
       "3       Albania              29\n",
       "6       Algeria             140\n",
       "9        Angola             477\n",
       "12    Argentina              52"
      ]
     },
     "execution_count": 347,
     "metadata": {},
     "output_type": "execute_result"
    }
   ],
   "source": [
    "maternal.head(5)"
   ]
  },
  {
   "cell_type": "code",
   "execution_count": 218,
   "metadata": {
    "collapsed": true
   },
   "outputs": [],
   "source": [
    "# UV radiation exposure (http://apps.who.int/gho/data/node.main.164?lang=en)\n",
    "url = \"http://apps.who.int/gho/athena/data/xmart.csv?target=GHO/UV_1&profile=crosstable&filter=COUNTRY:*;REGION:*&x-sideaxis=COUNTRY&x-topaxis=GHO;YEAR\"\n",
    "uvrad = pd.read_csv(url)\n",
    "uvrad = uvrad.ix[1:, ]\n",
    "uvrad.columns = ['Country', 'UVRadiation']"
   ]
  },
  {
   "cell_type": "code",
   "execution_count": 219,
   "metadata": {
    "collapsed": false
   },
   "outputs": [
    {
     "data": {
      "text/html": [
       "<div>\n",
       "<table border=\"1\" class=\"dataframe\">\n",
       "  <thead>\n",
       "    <tr style=\"text-align: right;\">\n",
       "      <th></th>\n",
       "      <th>Country</th>\n",
       "      <th>UVRadiation</th>\n",
       "    </tr>\n",
       "  </thead>\n",
       "  <tbody>\n",
       "    <tr>\n",
       "      <th>1</th>\n",
       "      <td>Afghanistan</td>\n",
       "      <td>4132</td>\n",
       "    </tr>\n",
       "    <tr>\n",
       "      <th>2</th>\n",
       "      <td>Albania</td>\n",
       "      <td>2542</td>\n",
       "    </tr>\n",
       "    <tr>\n",
       "      <th>3</th>\n",
       "      <td>Algeria</td>\n",
       "      <td>3253</td>\n",
       "    </tr>\n",
       "    <tr>\n",
       "      <th>4</th>\n",
       "      <td>Andorra</td>\n",
       "      <td>2469</td>\n",
       "    </tr>\n",
       "    <tr>\n",
       "      <th>5</th>\n",
       "      <td>Angola</td>\n",
       "      <td>5287</td>\n",
       "    </tr>\n",
       "  </tbody>\n",
       "</table>\n",
       "</div>"
      ],
      "text/plain": [
       "       Country  UVRadiation\n",
       "1  Afghanistan         4132\n",
       "2      Albania         2542\n",
       "3      Algeria         3253\n",
       "4      Andorra         2469\n",
       "5       Angola         5287"
      ]
     },
     "execution_count": 219,
     "metadata": {},
     "output_type": "execute_result"
    }
   ],
   "source": [
    "uvrad.head(5)"
   ]
  },
  {
   "cell_type": "code",
   "execution_count": 225,
   "metadata": {
    "collapsed": true
   },
   "outputs": [],
   "source": [
    "# Homicide (http://apps.who.int/gho/data/node.main.VIOLENCEHOMICIDE?lang=en)\n",
    "url = \"http://apps.who.int/gho/athena/data/xmart.csv?target=GHO/VIOLENCE_HOMICIDENUM,VIOLENCE_HOMICIDERATE&profile=crosstable&filter=COUNTRY:*;AGEGROUP:-;SEX:-&x-sideaxis=COUNTRY&x-topaxis=GHO;YEAR\"\n",
    "homicides = pd.read_csv(url)\n",
    "del homicides['Estimates of number of homicides']\n",
    "homicides = homicides.ix[1:,]\n",
    "homicides.columns = ['Country', 'HomicideRate']\n",
    "\n",
    "homicides['HomicideRate'] = homicides['HomicideRate'].apply(lambda x: x.split('[')[0])\n",
    "homicides['HomicideRate'] = homicides['HomicideRate'].apply(lambda x: pd.to_numeric(x, errors ='coerce')) "
   ]
  },
  {
   "cell_type": "code",
   "execution_count": 226,
   "metadata": {
    "collapsed": false
   },
   "outputs": [
    {
     "data": {
      "text/html": [
       "<div>\n",
       "<table border=\"1\" class=\"dataframe\">\n",
       "  <thead>\n",
       "    <tr style=\"text-align: right;\">\n",
       "      <th></th>\n",
       "      <th>Country</th>\n",
       "      <th>HomicideRate</th>\n",
       "    </tr>\n",
       "  </thead>\n",
       "  <tbody>\n",
       "    <tr>\n",
       "      <th>1</th>\n",
       "      <td>Afghanistan</td>\n",
       "      <td>7.3</td>\n",
       "    </tr>\n",
       "    <tr>\n",
       "      <th>2</th>\n",
       "      <td>Albania</td>\n",
       "      <td>5.0</td>\n",
       "    </tr>\n",
       "    <tr>\n",
       "      <th>3</th>\n",
       "      <td>Algeria</td>\n",
       "      <td>4.4</td>\n",
       "    </tr>\n",
       "    <tr>\n",
       "      <th>4</th>\n",
       "      <td>Andorra</td>\n",
       "      <td>0.8</td>\n",
       "    </tr>\n",
       "    <tr>\n",
       "      <th>5</th>\n",
       "      <td>Angola</td>\n",
       "      <td>10.7</td>\n",
       "    </tr>\n",
       "  </tbody>\n",
       "</table>\n",
       "</div>"
      ],
      "text/plain": [
       "       Country  HomicideRate\n",
       "1  Afghanistan           7.3\n",
       "2      Albania           5.0\n",
       "3      Algeria           4.4\n",
       "4      Andorra           0.8\n",
       "5       Angola          10.7"
      ]
     },
     "execution_count": 226,
     "metadata": {},
     "output_type": "execute_result"
    }
   ],
   "source": [
    "homicides.head(5)"
   ]
  },
  {
   "cell_type": "code",
   "execution_count": 229,
   "metadata": {
    "collapsed": true
   },
   "outputs": [],
   "source": [
    "# Road traffic deaths (http://apps.who.int/gho/data/node.main.A997?lang=en)\n",
    "url = \"http://apps.who.int/gho/athena/data/xmart.csv?target=GHO/RS_196,RS_198&profile=crosstable&filter=COUNTRY:*&x-sideaxis=COUNTRY&x-topaxis=GHO;YEAR\"\n",
    "traffdeath = pd.read_csv(url)\n",
    "del traffdeath['Estimated number of road traffic deaths']\n",
    "traffdeath = traffdeath.ix[1:,]\n",
    "traffdeath.columns = ['Country', 'TrafficDeaths']"
   ]
  },
  {
   "cell_type": "code",
   "execution_count": 230,
   "metadata": {
    "collapsed": false
   },
   "outputs": [
    {
     "data": {
      "text/html": [
       "<div>\n",
       "<table border=\"1\" class=\"dataframe\">\n",
       "  <thead>\n",
       "    <tr style=\"text-align: right;\">\n",
       "      <th></th>\n",
       "      <th>Country</th>\n",
       "      <th>TrafficDeaths</th>\n",
       "    </tr>\n",
       "  </thead>\n",
       "  <tbody>\n",
       "    <tr>\n",
       "      <th>1</th>\n",
       "      <td>Afghanistan</td>\n",
       "      <td>15.5</td>\n",
       "    </tr>\n",
       "    <tr>\n",
       "      <th>2</th>\n",
       "      <td>Albania</td>\n",
       "      <td>15.1</td>\n",
       "    </tr>\n",
       "    <tr>\n",
       "      <th>3</th>\n",
       "      <td>Algeria</td>\n",
       "      <td>23.8</td>\n",
       "    </tr>\n",
       "    <tr>\n",
       "      <th>4</th>\n",
       "      <td>Andorra</td>\n",
       "      <td>7.6</td>\n",
       "    </tr>\n",
       "    <tr>\n",
       "      <th>5</th>\n",
       "      <td>Angola</td>\n",
       "      <td>26.9</td>\n",
       "    </tr>\n",
       "  </tbody>\n",
       "</table>\n",
       "</div>"
      ],
      "text/plain": [
       "       Country  TrafficDeaths\n",
       "1  Afghanistan           15.5\n",
       "2      Albania           15.1\n",
       "3      Algeria           23.8\n",
       "4      Andorra            7.6\n",
       "5       Angola           26.9"
      ]
     },
     "execution_count": 230,
     "metadata": {},
     "output_type": "execute_result"
    }
   ],
   "source": [
    "traffdeath.head(5)"
   ]
  },
  {
   "cell_type": "code",
   "execution_count": 247,
   "metadata": {
    "collapsed": false
   },
   "outputs": [],
   "source": [
    "# Malaria (http://apps.who.int/gho/data/view.main.14111?lang=en)\n",
    "url = \"http://apps.who.int/gho/athena/data/xmart.csv?target=GHO/MALARIA002&profile=crosstable&filter=COUNTRY:*&x-sideaxis=COUNTRY&x-topaxis=GHO;YEAR\"\n",
    "malaria = pd.read_csv(url)\n",
    "malaria = malaria.ix[1:, :2]\n",
    "malaria.columns = ['Country', 'Malaria']\n",
    "\n",
    "malaria['Malaria'] = malaria['Malaria'].str.replace(' ', '')\n",
    "malaria['Malaria'] = malaria['Malaria'].str.replace('&lt;', '')\n",
    "malaria['Malaria'] = malaria['Malaria'].apply(lambda x: x.split('[')[0])\n",
    "malaria['Malaria'] = malaria['Malaria'].apply(lambda x: pd.to_numeric(x, errors ='coerce')) "
   ]
  },
  {
   "cell_type": "code",
   "execution_count": 248,
   "metadata": {
    "collapsed": false
   },
   "outputs": [
    {
     "data": {
      "text/html": [
       "<div>\n",
       "<table border=\"1\" class=\"dataframe\">\n",
       "  <thead>\n",
       "    <tr style=\"text-align: right;\">\n",
       "      <th></th>\n",
       "      <th>Country</th>\n",
       "      <th>Malaria</th>\n",
       "    </tr>\n",
       "  </thead>\n",
       "  <tbody>\n",
       "    <tr>\n",
       "      <th>1</th>\n",
       "      <td>Afghanistan</td>\n",
       "      <td>250000.0</td>\n",
       "    </tr>\n",
       "    <tr>\n",
       "      <th>2</th>\n",
       "      <td>Algeria</td>\n",
       "      <td>50.0</td>\n",
       "    </tr>\n",
       "    <tr>\n",
       "      <th>3</th>\n",
       "      <td>Angola</td>\n",
       "      <td>3400000.0</td>\n",
       "    </tr>\n",
       "    <tr>\n",
       "      <th>4</th>\n",
       "      <td>Argentina</td>\n",
       "      <td>0.0</td>\n",
       "    </tr>\n",
       "    <tr>\n",
       "      <th>5</th>\n",
       "      <td>Armenia</td>\n",
       "      <td>NaN</td>\n",
       "    </tr>\n",
       "  </tbody>\n",
       "</table>\n",
       "</div>"
      ],
      "text/plain": [
       "       Country    Malaria\n",
       "1  Afghanistan   250000.0\n",
       "2      Algeria       50.0\n",
       "3       Angola  3400000.0\n",
       "4    Argentina        0.0\n",
       "5      Armenia        NaN"
      ]
     },
     "execution_count": 248,
     "metadata": {},
     "output_type": "execute_result"
    }
   ],
   "source": [
    "malaria.head(5)"
   ]
  },
  {
   "cell_type": "code",
   "execution_count": 253,
   "metadata": {
    "collapsed": true
   },
   "outputs": [],
   "source": [
    "# Number of people with HIV (http://apps.who.int/gho/data/node.main.620?lang=en)\n",
    "url = \"http://apps.who.int/gho/athena/data/xmart.csv?target=GHO/HIV_0000000001&profile=crosstable&filter=COUNTRY:*;REGION:*&x-sideaxis=COUNTRY&x-topaxis=GHO;YEAR\"\n",
    "hiv = pd.read_csv(url)\n",
    "hiv = hiv.ix[1:, :2]\n",
    "hiv.columns = ['Country', 'HIV']\n",
    "\n",
    "hiv['HIV'] = hiv['HIV'].str.replace(' ', '')\n",
    "hiv['HIV'] = hiv['HIV'].str.replace('&lt;', '')\n",
    "hiv['HIV'] = hiv['HIV'].apply(lambda x: x.split('[')[0])\n",
    "hiv['HIV'] = hiv['HIV'].apply(lambda x: pd.to_numeric(x, errors ='coerce')) "
   ]
  },
  {
   "cell_type": "code",
   "execution_count": 254,
   "metadata": {
    "collapsed": false
   },
   "outputs": [
    {
     "data": {
      "text/html": [
       "<div>\n",
       "<table border=\"1\" class=\"dataframe\">\n",
       "  <thead>\n",
       "    <tr style=\"text-align: right;\">\n",
       "      <th></th>\n",
       "      <th>Country</th>\n",
       "      <th>HIV</th>\n",
       "    </tr>\n",
       "  </thead>\n",
       "  <tbody>\n",
       "    <tr>\n",
       "      <th>1</th>\n",
       "      <td>Afghanistan</td>\n",
       "      <td>6700.0</td>\n",
       "    </tr>\n",
       "    <tr>\n",
       "      <th>2</th>\n",
       "      <td>Albania</td>\n",
       "      <td>NaN</td>\n",
       "    </tr>\n",
       "    <tr>\n",
       "      <th>3</th>\n",
       "      <td>Algeria</td>\n",
       "      <td>11000.0</td>\n",
       "    </tr>\n",
       "    <tr>\n",
       "      <th>4</th>\n",
       "      <td>Andorra</td>\n",
       "      <td>NaN</td>\n",
       "    </tr>\n",
       "    <tr>\n",
       "      <th>5</th>\n",
       "      <td>Angola</td>\n",
       "      <td>300000.0</td>\n",
       "    </tr>\n",
       "  </tbody>\n",
       "</table>\n",
       "</div>"
      ],
      "text/plain": [
       "       Country       HIV\n",
       "1  Afghanistan    6700.0\n",
       "2      Albania       NaN\n",
       "3      Algeria   11000.0\n",
       "4      Andorra       NaN\n",
       "5       Angola  300000.0"
      ]
     },
     "execution_count": 254,
     "metadata": {},
     "output_type": "execute_result"
    }
   ],
   "source": [
    "hiv.head(5)"
   ]
  },
  {
   "cell_type": "code",
   "execution_count": 260,
   "metadata": {
    "collapsed": false
   },
   "outputs": [],
   "source": [
    "# Tuberculosis (http://apps.who.int/gho/data/view.main.57040ALL?lang=en)\n",
    "url = \"http://apps.who.int/gho/athena/data/xmart.csv?target=GHO/MDG_0000000020,TB_e_inc_num,TB_e_inc_tbhiv_100k,TB_e_inc_tbhiv_num&profile=crosstable&filter=COUNTRY:*;REGION:*&x-sideaxis=COUNTRY;YEAR&x-topaxis=GHO\"\n",
    "tb = pd.read_csv(url)\n",
    "tb = tb[['Country', 'Year',\n",
    "                        'Incidence of tuberculosis (per 100 000 population per year)']]\n",
    "tb.columns = ['Country', 'Year', 'Tubercululosis']\n",
    "tb = tb.loc[tb['Year'] == 2014]\n",
    "del tb['Year']\n",
    "\n",
    "tb['Tubercululosis'] = tb['Tubercululosis'].str.replace(' ', '')\n",
    "tb['Tubercululosis'] = tb['Tubercululosis'].str.replace('&lt;', '')\n",
    "tb['Tubercululosis'] = tb['Tubercululosis'].apply(lambda x: x.split('[')[0])\n",
    "tb['Tubercululosis'] = tb['Tubercululosis'].apply(lambda x: pd.to_numeric(x, errors ='coerce')) "
   ]
  },
  {
   "cell_type": "code",
   "execution_count": 263,
   "metadata": {
    "collapsed": false
   },
   "outputs": [
    {
     "data": {
      "text/html": [
       "<div>\n",
       "<table border=\"1\" class=\"dataframe\">\n",
       "  <thead>\n",
       "    <tr style=\"text-align: right;\">\n",
       "      <th></th>\n",
       "      <th>Country</th>\n",
       "      <th>Tubercululosis</th>\n",
       "    </tr>\n",
       "  </thead>\n",
       "  <tbody>\n",
       "    <tr>\n",
       "      <th>0</th>\n",
       "      <td>Afghanistan</td>\n",
       "      <td>189.0</td>\n",
       "    </tr>\n",
       "    <tr>\n",
       "      <th>25</th>\n",
       "      <td>Albania</td>\n",
       "      <td>19.0</td>\n",
       "    </tr>\n",
       "    <tr>\n",
       "      <th>50</th>\n",
       "      <td>Algeria</td>\n",
       "      <td>78.0</td>\n",
       "    </tr>\n",
       "    <tr>\n",
       "      <th>75</th>\n",
       "      <td>Andorra</td>\n",
       "      <td>9.2</td>\n",
       "    </tr>\n",
       "    <tr>\n",
       "      <th>100</th>\n",
       "      <td>Angola</td>\n",
       "      <td>370.0</td>\n",
       "    </tr>\n",
       "  </tbody>\n",
       "</table>\n",
       "</div>"
      ],
      "text/plain": [
       "         Country  Tubercululosis\n",
       "0    Afghanistan           189.0\n",
       "25       Albania            19.0\n",
       "50       Algeria            78.0\n",
       "75       Andorra             9.2\n",
       "100       Angola           370.0"
      ]
     },
     "execution_count": 263,
     "metadata": {},
     "output_type": "execute_result"
    }
   ],
   "source": [
    "tb.head(5)"
   ]
  },
  {
   "cell_type": "code",
   "execution_count": 418,
   "metadata": {
    "collapsed": true
   },
   "outputs": [],
   "source": [
    "# Suicide (http://apps.who.int/gho/data/node.main.MHSUICIDE?lang=en)\n",
    "url = \"http://apps.who.int/gho/athena/data/xmart.csv?target=GHO/MH_12&profile=crosstable&filter=COUNTRY:*;REGION:*&x-sideaxis=COUNTRY&x-topaxis=GHO;YEAR;SEX\"\n",
    "suicide = pd.read_csv(url)\n",
    "suicide = suicide.ix[2:, :2]\n",
    "suicide.columns = ['Country', 'Suicide']\n",
    "suicide['Suicide'] = suicide['Suicide'].apply(lambda x: pd.to_numeric(x, errors ='coerce')) "
   ]
  },
  {
   "cell_type": "code",
   "execution_count": 419,
   "metadata": {
    "collapsed": false
   },
   "outputs": [
    {
     "data": {
      "text/html": [
       "<div>\n",
       "<table border=\"1\" class=\"dataframe\">\n",
       "  <thead>\n",
       "    <tr style=\"text-align: right;\">\n",
       "      <th></th>\n",
       "      <th>Country</th>\n",
       "      <th>Suicide</th>\n",
       "    </tr>\n",
       "  </thead>\n",
       "  <tbody>\n",
       "    <tr>\n",
       "      <th>2</th>\n",
       "      <td>Afghanistan</td>\n",
       "      <td>5.7</td>\n",
       "    </tr>\n",
       "    <tr>\n",
       "      <th>3</th>\n",
       "      <td>Albania</td>\n",
       "      <td>5.9</td>\n",
       "    </tr>\n",
       "    <tr>\n",
       "      <th>4</th>\n",
       "      <td>Algeria</td>\n",
       "      <td>1.9</td>\n",
       "    </tr>\n",
       "    <tr>\n",
       "      <th>5</th>\n",
       "      <td>Angola</td>\n",
       "      <td>13.8</td>\n",
       "    </tr>\n",
       "    <tr>\n",
       "      <th>6</th>\n",
       "      <td>Argentina</td>\n",
       "      <td>10.3</td>\n",
       "    </tr>\n",
       "  </tbody>\n",
       "</table>\n",
       "</div>"
      ],
      "text/plain": [
       "       Country  Suicide\n",
       "2  Afghanistan      5.7\n",
       "3      Albania      5.9\n",
       "4      Algeria      1.9\n",
       "5       Angola     13.8\n",
       "6    Argentina     10.3"
      ]
     },
     "execution_count": 419,
     "metadata": {},
     "output_type": "execute_result"
    }
   ],
   "source": [
    "suicide.head(5)"
   ]
  },
  {
   "cell_type": "code",
   "execution_count": 364,
   "metadata": {
    "collapsed": false
   },
   "outputs": [],
   "source": [
    "def mergeFunc(dataframe1, dataframe2):\n",
    "    return pd.merge(dataframe1, dataframe2, left_on='Country', \n",
    "                    right_on='Country', how='outer')"
   ]
  },
  {
   "cell_type": "code",
   "execution_count": 427,
   "metadata": {
    "collapsed": false
   },
   "outputs": [],
   "source": [
    "totaldf = mergeFunc(life, smoking)\n",
    "for i in [alcohol, oweight, exercise, chol, bsugar, sanitation, maternal,\n",
    "         uvrad, homicides, traffdeath, malaria, hiv, tb, suicide]:\n",
    "    totaldf = mergeFunc(totaldf, i)"
   ]
  },
  {
   "cell_type": "code",
   "execution_count": 428,
   "metadata": {
    "collapsed": false
   },
   "outputs": [
    {
     "data": {
      "text/html": [
       "<div>\n",
       "<table border=\"1\" class=\"dataframe\">\n",
       "  <thead>\n",
       "    <tr style=\"text-align: right;\">\n",
       "      <th></th>\n",
       "      <th>Country</th>\n",
       "      <th>LifeExpectancy</th>\n",
       "      <th>Smoking</th>\n",
       "      <th>AlcConsumption</th>\n",
       "      <th>Overweight</th>\n",
       "      <th>LowExercise</th>\n",
       "      <th>Cholesterol</th>\n",
       "      <th>BloodSugar</th>\n",
       "      <th>ImprovedWater</th>\n",
       "      <th>ImprovedSanitation</th>\n",
       "      <th>MaternalDeaths</th>\n",
       "      <th>UVRadiation</th>\n",
       "      <th>HomicideRate</th>\n",
       "      <th>TrafficDeaths</th>\n",
       "      <th>Malaria</th>\n",
       "      <th>HIV</th>\n",
       "      <th>Tubercululosis</th>\n",
       "      <th>Suicide</th>\n",
       "    </tr>\n",
       "  </thead>\n",
       "  <tbody>\n",
       "    <tr>\n",
       "      <th>0</th>\n",
       "      <td>Afghanistan</td>\n",
       "      <td>60.5</td>\n",
       "      <td>NaN</td>\n",
       "      <td>0.01</td>\n",
       "      <td>16.2</td>\n",
       "      <td>NaN</td>\n",
       "      <td>21.9</td>\n",
       "      <td>8.4</td>\n",
       "      <td>55.3</td>\n",
       "      <td>31.9</td>\n",
       "      <td>396.0</td>\n",
       "      <td>4132.0</td>\n",
       "      <td>7.3</td>\n",
       "      <td>15.5</td>\n",
       "      <td>250000.0</td>\n",
       "      <td>6700.0</td>\n",
       "      <td>189.0</td>\n",
       "      <td>5.7</td>\n",
       "    </tr>\n",
       "    <tr>\n",
       "      <th>1</th>\n",
       "      <td>Albania</td>\n",
       "      <td>77.8</td>\n",
       "      <td>29.7</td>\n",
       "      <td>5.28</td>\n",
       "      <td>52.7</td>\n",
       "      <td>NaN</td>\n",
       "      <td>45.3</td>\n",
       "      <td>8.3</td>\n",
       "      <td>95.1</td>\n",
       "      <td>93.2</td>\n",
       "      <td>29.0</td>\n",
       "      <td>2542.0</td>\n",
       "      <td>5.0</td>\n",
       "      <td>15.1</td>\n",
       "      <td>NaN</td>\n",
       "      <td>NaN</td>\n",
       "      <td>19.0</td>\n",
       "      <td>5.9</td>\n",
       "    </tr>\n",
       "    <tr>\n",
       "      <th>2</th>\n",
       "      <td>Algeria</td>\n",
       "      <td>75.6</td>\n",
       "      <td>NaN</td>\n",
       "      <td>0.45</td>\n",
       "      <td>59.1</td>\n",
       "      <td>34.4</td>\n",
       "      <td>39.4</td>\n",
       "      <td>10.5</td>\n",
       "      <td>83.6</td>\n",
       "      <td>87.6</td>\n",
       "      <td>140.0</td>\n",
       "      <td>3253.0</td>\n",
       "      <td>4.4</td>\n",
       "      <td>23.8</td>\n",
       "      <td>50.0</td>\n",
       "      <td>11000.0</td>\n",
       "      <td>78.0</td>\n",
       "      <td>1.9</td>\n",
       "    </tr>\n",
       "    <tr>\n",
       "      <th>3</th>\n",
       "      <td>Angola</td>\n",
       "      <td>52.4</td>\n",
       "      <td>NaN</td>\n",
       "      <td>7.80</td>\n",
       "      <td>30.9</td>\n",
       "      <td>NaN</td>\n",
       "      <td>30.9</td>\n",
       "      <td>5.6</td>\n",
       "      <td>49.0</td>\n",
       "      <td>51.6</td>\n",
       "      <td>477.0</td>\n",
       "      <td>5287.0</td>\n",
       "      <td>10.7</td>\n",
       "      <td>26.9</td>\n",
       "      <td>3400000.0</td>\n",
       "      <td>300000.0</td>\n",
       "      <td>370.0</td>\n",
       "      <td>13.8</td>\n",
       "    </tr>\n",
       "    <tr>\n",
       "      <th>4</th>\n",
       "      <td>Antigua and Barbuda</td>\n",
       "      <td>76.4</td>\n",
       "      <td>NaN</td>\n",
       "      <td>7.84</td>\n",
       "      <td>61.9</td>\n",
       "      <td>NaN</td>\n",
       "      <td>43.0</td>\n",
       "      <td>11.8</td>\n",
       "      <td>97.9</td>\n",
       "      <td>NaN</td>\n",
       "      <td>NaN</td>\n",
       "      <td>5148.0</td>\n",
       "      <td>4.4</td>\n",
       "      <td>6.7</td>\n",
       "      <td>NaN</td>\n",
       "      <td>NaN</td>\n",
       "      <td>7.6</td>\n",
       "      <td>NaN</td>\n",
       "    </tr>\n",
       "  </tbody>\n",
       "</table>\n",
       "</div>"
      ],
      "text/plain": [
       "               Country  LifeExpectancy  Smoking  AlcConsumption  Overweight  \\\n",
       "0          Afghanistan            60.5      NaN            0.01        16.2   \n",
       "1              Albania            77.8     29.7            5.28        52.7   \n",
       "2              Algeria            75.6      NaN            0.45        59.1   \n",
       "3               Angola            52.4      NaN            7.80        30.9   \n",
       "4  Antigua and Barbuda            76.4      NaN            7.84        61.9   \n",
       "\n",
       "   LowExercise  Cholesterol  BloodSugar  ImprovedWater  ImprovedSanitation  \\\n",
       "0          NaN         21.9         8.4           55.3                31.9   \n",
       "1          NaN         45.3         8.3           95.1                93.2   \n",
       "2         34.4         39.4        10.5           83.6                87.6   \n",
       "3          NaN         30.9         5.6           49.0                51.6   \n",
       "4          NaN         43.0        11.8           97.9                 NaN   \n",
       "\n",
       "   MaternalDeaths  UVRadiation  HomicideRate  TrafficDeaths    Malaria  \\\n",
       "0           396.0       4132.0           7.3           15.5   250000.0   \n",
       "1            29.0       2542.0           5.0           15.1        NaN   \n",
       "2           140.0       3253.0           4.4           23.8       50.0   \n",
       "3           477.0       5287.0          10.7           26.9  3400000.0   \n",
       "4             NaN       5148.0           4.4            6.7        NaN   \n",
       "\n",
       "        HIV  Tubercululosis  Suicide  \n",
       "0    6700.0           189.0      5.7  \n",
       "1       NaN            19.0      5.9  \n",
       "2   11000.0            78.0      1.9  \n",
       "3  300000.0           370.0     13.8  \n",
       "4       NaN             7.6      NaN  "
      ]
     },
     "execution_count": 428,
     "metadata": {},
     "output_type": "execute_result"
    }
   ],
   "source": [
    "totaldf.head(5)"
   ]
  },
  {
   "cell_type": "code",
   "execution_count": 429,
   "metadata": {
    "collapsed": false
   },
   "outputs": [
    {
     "name": "stdout",
     "output_type": "stream",
     "text": [
      "--------------- CORRELATIONS ---------------\n",
      "                    LifeExpectancy   Smoking  AlcConsumption  Overweight  \\\n",
      "LifeExpectancy            1.000000  0.249703        0.449908    0.642331   \n",
      "Smoking                   0.249703  1.000000        0.228790    0.371351   \n",
      "AlcConsumption            0.449908  0.228790        1.000000    0.337301   \n",
      "Overweight                0.642331  0.371351        0.337301    1.000000   \n",
      "LowExercise               0.329608 -0.055418        0.069692    0.463555   \n",
      "Cholesterol               0.819122  0.343770        0.558656    0.689507   \n",
      "BloodSugar                0.375444  0.426404       -0.020947    0.689836   \n",
      "ImprovedWater             0.769728  0.307961        0.395846    0.593261   \n",
      "ImprovedSanitation        0.849289  0.330889        0.445358    0.686397   \n",
      "MaternalDeaths           -0.854801 -0.289982       -0.351171   -0.660800   \n",
      "UVRadiation              -0.557237 -0.425587       -0.564594   -0.364322   \n",
      "HomicideRate             -0.189353 -0.244512       -0.066809   -0.020601   \n",
      "TrafficDeaths            -0.658213 -0.386946       -0.475372   -0.462138   \n",
      "Malaria                  -0.356734 -0.251441        0.117950   -0.211497   \n",
      "HIV                      -0.268193 -0.163352        0.150585   -0.112722   \n",
      "Tubercululosis           -0.643085 -0.103174       -0.289231   -0.471175   \n",
      "Suicide                  -0.073634  0.118175        0.259802   -0.211360   \n",
      "\n",
      "                    LowExercise  Cholesterol  BloodSugar  ImprovedWater  \\\n",
      "LifeExpectancy         0.329608     0.819122    0.375444       0.769728   \n",
      "Smoking               -0.055418     0.343770    0.426404       0.307961   \n",
      "AlcConsumption         0.069692     0.558656   -0.020947       0.395846   \n",
      "Overweight             0.463555     0.689507    0.689836       0.593261   \n",
      "LowExercise            1.000000     0.346623    0.385079       0.258133   \n",
      "Cholesterol            0.346623     1.000000    0.366182       0.667556   \n",
      "BloodSugar             0.385079     0.366182    1.000000       0.374252   \n",
      "ImprovedWater          0.258133     0.667556    0.374252       1.000000   \n",
      "ImprovedSanitation     0.349598     0.794480    0.420894       0.790079   \n",
      "MaternalDeaths        -0.283112    -0.725931   -0.514994      -0.723602   \n",
      "UVRadiation            0.037423    -0.608233   -0.046192      -0.456334   \n",
      "HomicideRate           0.147966    -0.285824   -0.090728      -0.114335   \n",
      "TrafficDeaths         -0.137726    -0.662000   -0.292423      -0.566794   \n",
      "Malaria               -0.106364    -0.330051   -0.288900      -0.241769   \n",
      "HIV                    0.132057    -0.140231   -0.168166      -0.132549   \n",
      "Tubercululosis        -0.144819    -0.474177   -0.223924      -0.507927   \n",
      "Suicide               -0.432156    -0.014237   -0.160675      -0.071891   \n",
      "\n",
      "                    ImprovedSanitation  MaternalDeaths  UVRadiation  \\\n",
      "LifeExpectancy                0.849289       -0.854801    -0.557237   \n",
      "Smoking                       0.330889       -0.289982    -0.425587   \n",
      "AlcConsumption                0.445358       -0.351171    -0.564594   \n",
      "Overweight                    0.686397       -0.660800    -0.364322   \n",
      "LowExercise                   0.349598       -0.283112     0.037423   \n",
      "Cholesterol                   0.794480       -0.725931    -0.608233   \n",
      "BloodSugar                    0.420894       -0.514994    -0.046192   \n",
      "ImprovedWater                 0.790079       -0.723602    -0.456334   \n",
      "ImprovedSanitation            1.000000       -0.822348    -0.538668   \n",
      "MaternalDeaths               -0.822348        1.000000     0.506022   \n",
      "UVRadiation                  -0.538668        0.506022     1.000000   \n",
      "HomicideRate                 -0.152992        0.115334     0.324294   \n",
      "TrafficDeaths                -0.569476        0.544980     0.477652   \n",
      "Malaria                      -0.314133        0.365703     0.157499   \n",
      "HIV                          -0.194974        0.157549     0.099297   \n",
      "Tubercululosis               -0.591477        0.482677     0.334892   \n",
      "Suicide                      -0.066800        0.049644    -0.138712   \n",
      "\n",
      "                    HomicideRate  TrafficDeaths   Malaria       HIV  \\\n",
      "LifeExpectancy         -0.189353      -0.658213 -0.356734 -0.268193   \n",
      "Smoking                -0.244512      -0.386946 -0.251441 -0.163352   \n",
      "AlcConsumption         -0.066809      -0.475372  0.117950  0.150585   \n",
      "Overweight             -0.020601      -0.462138 -0.211497 -0.112722   \n",
      "LowExercise             0.147966      -0.137726 -0.106364  0.132057   \n",
      "Cholesterol            -0.285824      -0.662000 -0.330051 -0.140231   \n",
      "BloodSugar             -0.090728      -0.292423 -0.288900 -0.168166   \n",
      "ImprovedWater          -0.114335      -0.566794 -0.241769 -0.132549   \n",
      "ImprovedSanitation     -0.152992      -0.569476 -0.314133 -0.194974   \n",
      "MaternalDeaths          0.115334       0.544980  0.365703  0.157549   \n",
      "UVRadiation             0.324294       0.477652  0.157499  0.099297   \n",
      "HomicideRate            1.000000       0.239562 -0.066931  0.110452   \n",
      "TrafficDeaths           0.239562       1.000000  0.142091  0.217476   \n",
      "Malaria                -0.066931       0.142091  1.000000  0.418262   \n",
      "HIV                     0.110452       0.217476  0.418262  1.000000   \n",
      "Tubercululosis          0.165141       0.388150  0.134347  0.479971   \n",
      "Suicide                -0.151903      -0.077497  0.033290  0.059807   \n",
      "\n",
      "                    Tubercululosis   Suicide  \n",
      "LifeExpectancy           -0.643085 -0.073634  \n",
      "Smoking                  -0.103174  0.118175  \n",
      "AlcConsumption           -0.289231  0.259802  \n",
      "Overweight               -0.471175 -0.211360  \n",
      "LowExercise              -0.144819 -0.432156  \n",
      "Cholesterol              -0.474177 -0.014237  \n",
      "BloodSugar               -0.223924 -0.160675  \n",
      "ImprovedWater            -0.507927 -0.071891  \n",
      "ImprovedSanitation       -0.591477 -0.066800  \n",
      "MaternalDeaths            0.482677  0.049644  \n",
      "UVRadiation               0.334892 -0.138712  \n",
      "HomicideRate              0.165141 -0.151903  \n",
      "TrafficDeaths             0.388150 -0.077497  \n",
      "Malaria                   0.134347  0.033290  \n",
      "HIV                       0.479971  0.059807  \n",
      "Tubercululosis            1.000000  0.046151  \n",
      "Suicide                   0.046151  1.000000  \n"
     ]
    }
   ],
   "source": [
    "corr_df = totaldf.corr(method='pearson')\n",
    "print(\"--------------- CORRELATIONS ---------------\")\n",
    "print(corr_df.head(corr_df.shape[1]))"
   ]
  },
  {
   "cell_type": "code",
   "execution_count": 408,
   "metadata": {
    "collapsed": false
   },
   "outputs": [
    {
     "data": {
      "text/plain": [
       "12"
      ]
     },
     "execution_count": 408,
     "metadata": {},
     "output_type": "execute_result"
    }
   ],
   "source": [
    "corr_df.shape[1]"
   ]
  },
  {
   "cell_type": "code",
   "execution_count": 434,
   "metadata": {
    "collapsed": false
   },
   "outputs": [
    {
     "data": {
      "text/plain": [
       "9.7319767441860474"
      ]
     },
     "execution_count": 434,
     "metadata": {},
     "output_type": "execute_result"
    }
   ],
   "source": [
    "Series.mean(totaldf['Suicide'])\n",
    "#stats.mean(totaldf['Suicide'])"
   ]
  },
  {
   "cell_type": "code",
   "execution_count": 456,
   "metadata": {
    "collapsed": false
   },
   "outputs": [
    {
     "name": "stdout",
     "output_type": "stream",
     "text": [
      "       Country  LifeExpectancy  Smoking  AlcConsumption  Overweight  \\\n",
      "7    Australia            82.8     16.0           10.52        64.0   \n",
      "66   Guatemala            71.9      NaN            2.14        52.0   \n",
      "123     Panama            77.8      7.4            6.94        62.2   \n",
      "\n",
      "     LowExercise  Cholesterol  BloodSugar  ImprovedWater  ImprovedSanitation  \\\n",
      "7           23.8         55.2         7.3          100.0               100.0   \n",
      "66          13.3         27.7         7.5           92.8                63.9   \n",
      "123          NaN         42.8         9.0           94.7                75.0   \n",
      "\n",
      "     MaternalDeaths  UVRadiation  HomicideRate  TrafficDeaths  Malaria  \\\n",
      "7               6.0       3206.0           1.1            5.4      NaN   \n",
      "66             88.0       5141.0          39.9           19.0  10400.0   \n",
      "123            94.0       4898.0          19.3           10.0    830.0   \n",
      "\n",
      "         HIV  Tubercululosis  Suicide  \n",
      "7        NaN             6.4     10.6  \n",
      "66   49000.0            57.0      8.7  \n",
      "123  17000.0            46.0      4.7  \n"
     ]
    }
   ],
   "source": [
    "#print(df.loc[df['B'].isin(['one','three'])])\n",
    "\n",
    "print(totaldf.loc[totaldf['Country'].isin(['Panama', 'Guatemala', 'Australia'])])"
   ]
  },
  {
   "cell_type": "code",
   "execution_count": 457,
   "metadata": {
    "collapsed": false
   },
   "outputs": [
    {
     "data": {
      "text/plain": [
       "Country               Papua New Guinea\n",
       "LifeExpectancy                    62.9\n",
       "Smoking                            NaN\n",
       "AlcConsumption                    0.79\n",
       "Overweight                        60.7\n",
       "LowExercise                       14.7\n",
       "Cholesterol                       38.2\n",
       "BloodSugar                        11.8\n",
       "ImprovedWater                       40\n",
       "ImprovedSanitation                18.9\n",
       "MaternalDeaths                     215\n",
       "UVRadiation                       5377\n",
       "HomicideRate                      10.8\n",
       "TrafficDeaths                     16.8\n",
       "Malaria                        1.3e+06\n",
       "HIV                              37000\n",
       "Tubercululosis                     417\n",
       "Suicide                           12.4\n",
       "Name: 124, dtype: object"
      ]
     },
     "execution_count": 457,
     "metadata": {},
     "output_type": "execute_result"
    }
   ],
   "source": [
    "totaldf.ix[totaldf['AlcConsumption'].idxmax()]\n",
    "totaldf.ix[totaldf['ImprovedWater'].idxmin()]"
   ]
  },
  {
   "cell_type": "code",
   "execution_count": null,
   "metadata": {
    "collapsed": true
   },
   "outputs": [],
   "source": []
  }
 ],
 "metadata": {
  "kernelspec": {
   "display_name": "Python 2",
   "language": "python",
   "name": "python2"
  },
  "language_info": {
   "codemirror_mode": {
    "name": "ipython",
    "version": 2
   },
   "file_extension": ".py",
   "mimetype": "text/x-python",
   "name": "python",
   "nbconvert_exporter": "python",
   "pygments_lexer": "ipython2",
   "version": "2.7.11"
  }
 },
 "nbformat": 4,
 "nbformat_minor": 0
}
