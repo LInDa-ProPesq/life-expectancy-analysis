{
 "cells": [
  {
   "cell_type": "markdown",
   "metadata": {},
   "source": [
    "\n",
    "\n",
    "This is where the introduction to the analysis and the title goes"
   ]
  },
  {
   "cell_type": "markdown",
   "metadata": {},
   "source": [
    "## Importing the required packages\n",
    "\n",
    "Numpy, pandas and sklear are all needed for this analysis. These are imported below."
   ]
  },
  {
   "cell_type": "code",
   "execution_count": null,
   "metadata": {
    "collapsed": true
   },
   "outputs": [],
   "source": [
    "import numpy as np\n",
    "from pandas import Series, DataFrame\n",
    "import pandas as pd\n",
    "from sklearn.linear_model import Lasso"
   ]
  },
  {
   "cell_type": "markdown",
   "metadata": {},
   "source": [
    "## Extracting the data for this analysis\n",
    "\n",
    "Sixteen predictors were considered for this analysis, of which 12 were ultimately used. For each of the variables, the latest year with the most complete data that was available were selected for the analysis. The details of the variables included, as well as the outcome (life expectancy), are listed in the table below. [Smoking rates](http://apps.who.int/gho/data/node.main.1250?lang=en), [rates of insufficient physical activity](http://apps.who.int/gho/data/node.main.A893?lang=en), and [malaria](http://apps.who.int/gho/data/view.main.14111?lang=en) and [HIV](http://apps.who.int/gho/data/node.main.620?lang=en) incidence were also considered for this model, but were found to have high rates of missing data and were therefore excluded.\n",
    "\n",
    "These analyses were performed on data extracted on the 24th July 2016.\n",
    "\n",
    "**Description of data used for each variable**\n",
    "\n",
    "| Variable | Year | Measure used | Gender sample | Source URL |\n",
    "| -------- | ---- | ------------ | ------------- | ---------- |\n",
    "| Life expectancy | 2015 | Life expectancy at birth | Both sexes | http://apps.who.int/gho/data/node.main.688?lang=en|\n",
    "| Alcohol | 2010 | Per capita consumption (in litres) | All beverage types | http://apps.who.int/gho/data/node.main.A1026?lang=en|\n",
    "| Overweight | 2014 | Age-standarised rate (BMI >= 25) | Both sexes | http://apps.who.int/gho/data/node.main.A897A?lang=en|\n",
    "| Cholesterol | 2008 | Age-standardised rate | Both sexes | http://apps.who.int/gho/data/node.main.A884?lang=en |\n",
    "| Blood sugar | 2014 | Crude rate | Both sexes | http://apps.who.int/gho/data/node.main.A869?lang=en |\n",
    "| Improved water | 2015 | % using improved water sources | Total | http://apps.who.int/gho/data/node.main.167?lang=en | \n",
    "| Improved sanitation | 2015 | % using improved sanitation | Total | http://apps.who.int/gho/data/node.main.167?lang=en |\n",
    "| Maternal deaths | 2015 | Maternal mortality ratio | N/A  | http://apps.who.int/gho/data/node.main.MATMORT?lang=en |\n",
    "| UV radiation | 2004 | Exposure to solar UV | N/A | http://apps.who.int/gho/data/node.main.164?lang=en |\n",
    "| Homicide | 2012 | Rate of homicides | N/A | http://apps.who.int/gho/data/node.main.VIOLENCEHOMICIDE?lang=en |\n",
    "| Traffic deaths | 2013 | Rate of road traffic deaths | N/A | http://apps.who.int/gho/data/node.main.A997?lang=en |\n",
    "| Tuberculosis | 2014 | Incidence of tuberculosis | All cases | http://apps.who.int/gho/data/view.main.57040ALL?lang=en |\n",
    "| Suicide | 2012 | Age-standardised rate | Both sexes | http://apps.who.int/gho/data/node.main.MHSUICIDE?lang=en |\n",
    "\n",
    "The variables for this analysis are extracted directly from the website below:"
   ]
  },
  {
   "cell_type": "code",
   "execution_count": null,
   "metadata": {
    "collapsed": false
   },
   "outputs": [],
   "source": [
    "def dataImport(dataurl):\n",
    "\turl = dataurl\n",
    "\treturn pd.read_csv(url)\n",
    "\n",
    "life = dataImport(\"http://apps.who.int/gho/athena/data/xmart.csv?target=GHO/WHOSIS_000001,WHOSIS_000015&profile=crosstable&filter=COUNTRY:*&x-sideaxis=COUNTRY;YEAR&x-topaxis=GHO;SEX\")\n",
    "alcohol = dataImport(\"http://apps.who.int/gho/athena/data/xmart.csv?target=GHO/SA_0000001400&profile=crosstable&filter=COUNTRY:*;YEAR:2015;YEAR:2014;YEAR:2013;YEAR:2012;YEAR:2011;YEAR:2010;YEAR:2009;YEAR:2008;YEAR:2007;YEAR:2006;YEAR:2005;YEAR:2004;YEAR:2003;YEAR:2002;YEAR:2001;YEAR:2000&x-sideaxis=COUNTRY;DATASOURCE;ALCOHOLTYPE&x-topaxis=GHO;YEAR\")\n",
    "oweight = dataImport(\"http://apps.who.int/gho/athena/data/xmart.csv?target=GHO/NCD_BMI_25A&profile=crosstable&filter=AGEGROUP:*;COUNTRY:*;SEX:*&x-sideaxis=COUNTRY&x-topaxis=GHO;YEAR;AGEGROUP;SEX\")\n",
    "chol = dataImport(\"http://apps.who.int/gho/athena/data/xmart.csv?target=GHO/CHOL_01,CHOL_02&profile=crosstable&filter=AGEGROUP:*;COUNTRY:*;SEX:*&x-sideaxis=COUNTRY;YEAR;AGEGROUP&x-topaxis=GHO;SEX\")\n",
    "bsugar = dataImport(\"http://apps.who.int/gho/athena/data/xmart.csv?target=GHO/NCD_GLUC_03,NCD_GLUC_04&profile=crosstable&filter=AGEGROUP:*;COUNTRY:*;SEX:*&x-sideaxis=COUNTRY;YEAR;AGEGROUP&x-topaxis=GHO;SEX\")\n",
    "sanitation = dataImport(\"http://apps.who.int/gho/athena/data/xmart.csv?target=GHO/WHS5_122,WHS5_158&profile=crosstable&filter=COUNTRY:*;RESIDENCEAREATYPE:*&x-sideaxis=COUNTRY;YEAR&x-topaxis=GHO;RESIDENCEAREATYPE\")\n",
    "maternal = dataImport(\"http://apps.who.int/gho/athena/data/xmart.csv?target=GHO/MDG_0000000026,MORT_MATERNALNUM&profile=crosstable&filter=COUNTRY:*;REGION:*&x-sideaxis=COUNTRY;YEAR&x-topaxis=GHO\")\n",
    "uvrad = dataImport(\"http://apps.who.int/gho/athena/data/xmart.csv?target=GHO/UV_1&profile=crosstable&filter=COUNTRY:*;REGION:*&x-sideaxis=COUNTRY&x-topaxis=GHO;YEAR\")\n",
    "homicides = dataImport(\"http://apps.who.int/gho/athena/data/xmart.csv?target=GHO/VIOLENCE_HOMICIDENUM,VIOLENCE_HOMICIDERATE&profile=crosstable&filter=COUNTRY:*;AGEGROUP:-;SEX:-&x-sideaxis=COUNTRY&x-topaxis=GHO;YEAR\")\n",
    "traffdeath = dataImport(\"http://apps.who.int/gho/athena/data/xmart.csv?target=GHO/RS_196,RS_198&profile=crosstable&filter=COUNTRY:*&x-sideaxis=COUNTRY&x-topaxis=GHO;YEAR\")\n",
    "tb = dataImport(\"http://apps.who.int/gho/athena/data/xmart.csv?target=GHO/MDG_0000000020,TB_e_inc_num,TB_e_inc_tbhiv_100k,TB_e_inc_tbhiv_num&profile=crosstable&filter=COUNTRY:*;REGION:*&x-sideaxis=COUNTRY;YEAR&x-topaxis=GHO\")\n",
    "suicide = dataImport(\"http://apps.who.int/gho/athena/data/xmart.csv?target=GHO/MH_12&profile=crosstable&filter=COUNTRY:*;REGION:*&x-sideaxis=COUNTRY&x-topaxis=GHO;YEAR;SEX\")"
   ]
  },
  {
   "cell_type": "markdown",
   "metadata": {},
   "source": [
    "## Cleaning the data\n",
    "\n",
    "Each of the variables have been imported in separate DataFrames that need to be cleaned. These need to be cleaned so that only the relevant years and variables are remaining. In addition"
   ]
  },
  {
   "cell_type": "code",
   "execution_count": null,
   "metadata": {
    "collapsed": true
   },
   "outputs": [],
   "source": []
  }
 ],
 "metadata": {
  "kernelspec": {
   "display_name": "Python 2",
   "language": "python",
   "name": "python2"
  },
  "language_info": {
   "codemirror_mode": {
    "name": "ipython",
    "version": 2
   },
   "file_extension": ".py",
   "mimetype": "text/x-python",
   "name": "python",
   "nbconvert_exporter": "python",
   "pygments_lexer": "ipython2",
   "version": "2.7.11"
  }
 },
 "nbformat": 4,
 "nbformat_minor": 0
}
