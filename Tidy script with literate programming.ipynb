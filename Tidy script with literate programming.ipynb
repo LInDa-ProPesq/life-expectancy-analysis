{
 "cells": [
  {
   "cell_type": "markdown",
   "metadata": {},
   "source": [
    "# Life expectancy analysis\n",
    "\n",
    "Below is an analysis predicting the life expectancy of 153 countries.\n",
    "\n",
    "* Data sources\n",
    "* Number of countries\n",
    "* See if there is additional information I should include."
   ]
  },
  {
   "cell_type": "markdown",
   "metadata": {},
   "source": [
    "## Importing the required packages\n",
    "\n",
    "Numpy, pandas and sklear are all needed for this analysis. These are imported below."
   ]
  },
  {
   "cell_type": "code",
   "execution_count": null,
   "metadata": {
    "collapsed": true
   },
   "outputs": [],
   "source": [
    "import numpy as np\n",
    "from pandas import Series, DataFrame\n",
    "import pandas as pd\n",
    "from sklearn.linear_model import Lasso"
   ]
  },
  {
   "cell_type": "markdown",
   "metadata": {},
   "source": [
    "## Extracting the data for this analysis\n",
    "\n",
    "Sixteen predictors were considered for this analysis, of which 12 were ultimately used. For each of the variables, the latest year with the most complete data that was available were selected for the analysis. The details of the variables included, as well as the outcome (life expectancy), are listed in the table below. [Smoking rates](http://apps.who.int/gho/data/node.main.1250?lang=en), [rates of insufficient physical activity](http://apps.who.int/gho/data/node.main.A893?lang=en), and [malaria](http://apps.who.int/gho/data/view.main.14111?lang=en) and [HIV](http://apps.who.int/gho/data/node.main.620?lang=en) incidence were also considered for this model, but were found to have high rates of missing data and were therefore excluded.\n",
    "\n",
    "These analyses were performed on data extracted on the 24th July 2016.\n",
    "\n",
    "**Description of data used for each variable**\n",
    "\n",
    "| Variable | Year | Measure used | Gender sample | Source URL |\n",
    "| -------- | ---- | ------------ | ------------- | ---------- |\n",
    "| Life expectancy | 2015 | Life expectancy at birth | Both sexes | http://apps.who.int/gho/data/node.main.688?lang=en|\n",
    "| Alcohol | 2010 | Per capita consumption (in litres) | All beverage types | http://apps.who.int/gho/data/node.main.A1026?lang=en|\n",
    "| Overweight | 2014 | Age-standarised rate (BMI >= 25) | Both sexes | http://apps.who.int/gho/data/node.main.A897A?lang=en|\n",
    "| Cholesterol | 2008 | Age-standardised rate | Both sexes | http://apps.who.int/gho/data/node.main.A884?lang=en |\n",
    "| Blood sugar | 2014 | Crude rate | Both sexes | http://apps.who.int/gho/data/node.main.A869?lang=en |\n",
    "| Improved water | 2015 | % using improved water sources | Total | http://apps.who.int/gho/data/node.main.167?lang=en | \n",
    "| Improved sanitation | 2015 | % using improved sanitation | Total | http://apps.who.int/gho/data/node.main.167?lang=en |\n",
    "| Maternal deaths | 2015 | Maternal mortality ratio | N/A  | http://apps.who.int/gho/data/node.main.MATMORT?lang=en |\n",
    "| UV radiation | 2004 | Exposure to solar UV | N/A | http://apps.who.int/gho/data/node.main.164?lang=en |\n",
    "| Homicide | 2012 | Rate of homicides | N/A | http://apps.who.int/gho/data/node.main.VIOLENCEHOMICIDE?lang=en |\n",
    "| Traffic deaths | 2013 | Rate of road traffic deaths | N/A | http://apps.who.int/gho/data/node.main.A997?lang=en |\n",
    "| Tuberculosis | 2014 | Incidence of tuberculosis | All cases | http://apps.who.int/gho/data/view.main.57040ALL?lang=en |\n",
    "| Suicide | 2012 | Age-standardised rate | Both sexes | http://apps.who.int/gho/data/node.main.MHSUICIDE?lang=en |\n",
    "\n",
    "The variables for this analysis are extracted directly from the website below:"
   ]
  },
  {
   "cell_type": "code",
   "execution_count": null,
   "metadata": {
    "collapsed": false
   },
   "outputs": [],
   "source": [
    "def dataImport(dataurl):\n",
    "\turl = dataurl\n",
    "\treturn pd.read_csv(url)\n",
    "\n",
    "life = dataImport(\"http://apps.who.int/gho/athena/data/xmart.csv?target=GHO/WHOSIS_000001,WHOSIS_000015&profile=crosstable&filter=COUNTRY:*&x-sideaxis=COUNTRY;YEAR&x-topaxis=GHO;SEX\")\n",
    "alcohol = dataImport(\"http://apps.who.int/gho/athena/data/xmart.csv?target=GHO/SA_0000001400&profile=crosstable&filter=COUNTRY:*;YEAR:2015;YEAR:2014;YEAR:2013;YEAR:2012;YEAR:2011;YEAR:2010;YEAR:2009;YEAR:2008;YEAR:2007;YEAR:2006;YEAR:2005;YEAR:2004;YEAR:2003;YEAR:2002;YEAR:2001;YEAR:2000&x-sideaxis=COUNTRY;DATASOURCE;ALCOHOLTYPE&x-topaxis=GHO;YEAR\")\n",
    "oweight = dataImport(\"http://apps.who.int/gho/athena/data/xmart.csv?target=GHO/NCD_BMI_25A&profile=crosstable&filter=AGEGROUP:*;COUNTRY:*;SEX:*&x-sideaxis=COUNTRY&x-topaxis=GHO;YEAR;AGEGROUP;SEX\")\n",
    "chol = dataImport(\"http://apps.who.int/gho/athena/data/xmart.csv?target=GHO/CHOL_01,CHOL_02&profile=crosstable&filter=AGEGROUP:*;COUNTRY:*;SEX:*&x-sideaxis=COUNTRY;YEAR;AGEGROUP&x-topaxis=GHO;SEX\")\n",
    "bsugar = dataImport(\"http://apps.who.int/gho/athena/data/xmart.csv?target=GHO/NCD_GLUC_03,NCD_GLUC_04&profile=crosstable&filter=AGEGROUP:*;COUNTRY:*;SEX:*&x-sideaxis=COUNTRY;YEAR;AGEGROUP&x-topaxis=GHO;SEX\")\n",
    "sanitation = dataImport(\"http://apps.who.int/gho/athena/data/xmart.csv?target=GHO/WHS5_122,WHS5_158&profile=crosstable&filter=COUNTRY:*;RESIDENCEAREATYPE:*&x-sideaxis=COUNTRY;YEAR&x-topaxis=GHO;RESIDENCEAREATYPE\")\n",
    "maternal = dataImport(\"http://apps.who.int/gho/athena/data/xmart.csv?target=GHO/MDG_0000000026,MORT_MATERNALNUM&profile=crosstable&filter=COUNTRY:*;REGION:*&x-sideaxis=COUNTRY;YEAR&x-topaxis=GHO\")\n",
    "uvrad = dataImport(\"http://apps.who.int/gho/athena/data/xmart.csv?target=GHO/UV_1&profile=crosstable&filter=COUNTRY:*;REGION:*&x-sideaxis=COUNTRY&x-topaxis=GHO;YEAR\")\n",
    "homicides = dataImport(\"http://apps.who.int/gho/athena/data/xmart.csv?target=GHO/VIOLENCE_HOMICIDENUM,VIOLENCE_HOMICIDERATE&profile=crosstable&filter=COUNTRY:*;AGEGROUP:-;SEX:-&x-sideaxis=COUNTRY&x-topaxis=GHO;YEAR\")\n",
    "traffdeath = dataImport(\"http://apps.who.int/gho/athena/data/xmart.csv?target=GHO/RS_196,RS_198&profile=crosstable&filter=COUNTRY:*&x-sideaxis=COUNTRY&x-topaxis=GHO;YEAR\")\n",
    "tb = dataImport(\"http://apps.who.int/gho/athena/data/xmart.csv?target=GHO/MDG_0000000020,TB_e_inc_num,TB_e_inc_tbhiv_100k,TB_e_inc_tbhiv_num&profile=crosstable&filter=COUNTRY:*;REGION:*&x-sideaxis=COUNTRY;YEAR&x-topaxis=GHO\")\n",
    "suicide = dataImport(\"http://apps.who.int/gho/athena/data/xmart.csv?target=GHO/MH_12&profile=crosstable&filter=COUNTRY:*;REGION:*&x-sideaxis=COUNTRY&x-topaxis=GHO;YEAR;SEX\")"
   ]
  },
  {
   "cell_type": "markdown",
   "metadata": {},
   "source": [
    "## Cleaning the data\n",
    "\n",
    "Each of the variables have been imported in separate DataFrames that need to be cleaned. These need to be cleaned so that only the relevant years and variables are remaining. In addition, some of the DataFrames have columns that contain confidence intervals, so need to be parsed so that only the main number remains."
   ]
  },
  {
   "cell_type": "code",
   "execution_count": null,
   "metadata": {
    "collapsed": true
   },
   "outputs": [],
   "source": [
    "def cleaningData(data, rowsToKeep, outcome, colsToDrop = [], varNames = [], colsToConvert = [], year = None):\n",
    "    d = data.ix[rowsToKeep : ]\n",
    "    if colsToDrop:\n",
    "        d = d.drop(d.columns[colsToDrop], axis = 1)\n",
    "    \n",
    "    d.columns = varNames\n",
    "    \n",
    "    if (d[outcome].dtype == 'O'):\n",
    "        if (d[outcome].str.contains(\"\\[\").any()):\n",
    "            d[outcome] = d[outcome].apply(lambda x: x.split(' [')[0])\n",
    "            d[outcome] = d[outcome].str.replace(' ', '')\n",
    "    \n",
    "    d[colsToConvert] = d[colsToConvert].apply(lambda x: pd.to_numeric(x, errors ='coerce'))\n",
    "    \n",
    "    if 'Year' in list(d.columns.values):\n",
    "        d = d.loc[d['Year'] == year]\n",
    "        del d['Year']\n",
    "    return d\n",
    "\n",
    "# Clean each DataFrame below. Note that 'alcohol' required 2 additional cleaning steps as it\n",
    "# had a very different sturcture from the other data sources.\n",
    "\n",
    "life = cleaningData(life, 1, 'LifeExpectancy', range(3, 8), ['Country', 'Year', 'LifeExpectancy'],\n",
    "\t\t\t\t\t['Year', 'LifeExpectancy'], 2015)\n",
    "\n",
    "alcohol = cleaningData(alcohol, 1, 'Alcohol', [1] + range(3, 8) + range(9, 19), ['Country', 'Type', 'Alcohol'],\n",
    "                    ['Alcohol'])\n",
    "alcohol = alcohol[alcohol['Type'].str.contains(\"All types\")]\n",
    "del alcohol['Type']\n",
    "\n",
    "oweight = cleaningData(oweight, 3, 'Overweight', range(2, 7), ['Country', 'Overweight'], \n",
    "\t\t\t\t\t  ['Overweight'])\n",
    "chol = cleaningData(chol, 1, 'Cholesterol', [2, 4, 5, 6, 7, 8], ['Country', 'Year', 'Cholesterol'],\n",
    "                    ['Year', 'Cholesterol'], 2008)\n",
    "bsugar = cleaningData(bsugar, 1, 'BloodSugar', [2, 4, 5, 6, 7], ['Country', 'Year', 'BloodSugar'],\n",
    "                    ['Year', 'BloodSugar'], 2014)\n",
    "sanitation = cleaningData(sanitation, 1, 'ImprovedWater', [2, 3, 5, 6], \n",
    "                           ['Country', 'Year', 'ImprovedWater', 'ImprovedSanitation'],\n",
    "                           ['Year', 'ImprovedWater', 'ImprovedSanitation'], 2015)\n",
    "maternal = cleaningData(maternal, 0, 'MaternalDeaths', [3], ['Country', 'Year', 'MaternalDeaths'],\n",
    "                           ['Year', 'MaternalDeaths'], 2015)\n",
    "uvrad = cleaningData(uvrad, 1, 'UVRadiation', [], ['Country', 'UVRadiation'], \n",
    "                      ['UVRadiation'])\n",
    "homicides = cleaningData(homicides, 1, 'HomicideRate', [1], ['Country', 'HomicideRate'],\n",
    "                    ['HomicideRate'])\n",
    "traffdeath = cleaningData(traffdeath, 1, 'TrafficDeaths', [1], ['Country', 'TrafficDeaths'],\n",
    "                    ['TrafficDeaths'])\n",
    "tb = cleaningData(tb, 0, 'Tubercululosis', [2, 4, 5], ['Country', 'Year', 'Tubercululosis'],\n",
    "                    ['Year', 'Tubercululosis'], 2014)\n",
    "suicide = cleaningData(suicide, 2, 'Suicide', [2, 3], ['Country', 'Suicide'],\n",
    "                    ['Suicide'])"
   ]
  },
  {
   "cell_type": "markdown",
   "metadata": {},
   "source": [
    "## Creating the final dataset\n",
    "\n",
    "Finally, we need to merge all of the datasets. There are also a small number of missing values. As the LASSO regression we will use below cannot run on a dataset with missing values, these need to be deleted."
   ]
  },
  {
   "cell_type": "code",
   "execution_count": null,
   "metadata": {
    "collapsed": true
   },
   "outputs": [],
   "source": [
    "# Now that the data is cleaned, time to merge all of the variables into one DataFrame.\n",
    "def mergeFunc(dataframe1, dataframe2):\n",
    "    return pd.merge(dataframe1, dataframe2, left_on='Country', \n",
    "                    right_on='Country', how='outer')\n",
    "\n",
    "totaldf = mergeFunc(life, alcohol)\n",
    "for i in [oweight, chol, bsugar, sanitation, maternal,\n",
    "         uvrad, homicides, traffdeath, tb, suicide]:\n",
    "    totaldf = mergeFunc(totaldf, i)\n",
    "\n",
    "# Delete all rows with missing values from full DataFrame\n",
    "totaldf = totaldf.dropna()"
   ]
  },
  {
   "cell_type": "markdown",
   "metadata": {},
   "source": [
    "## Preparing the dataset for linear LASSO regression\n",
    "\n",
    "The data were screened to see if they met the assumptions of linear regression.\n",
    "* The outcome was negatively skewed, so an inverse square root transformation was applied to normalise it. This somewhat corrected the skew, but note that it is not completely normal.\n",
    "* There were a two pairs of predictors with potential multicollinearity issues (correlations of above 0.8); however, a sensitivity analysis demonstrated that having them in the final model together did not affect the coefficients:\n",
    "     * ImprovedSanitation and ImprovedWater\n",
    "     * ImprovedSanitation and Cholesterol\n",
    "* As recommended for LASSO regression, all of the predictors were standardised prior to adding them to the model.\n",
    "\n",
    "Finally, ridge regression was considered, but as I wanted to reduce the number of predictors I ultimately decided on LASSO regression to fit the model."
   ]
  },
  {
   "cell_type": "code",
   "execution_count": null,
   "metadata": {
    "collapsed": true
   },
   "outputs": [],
   "source": [
    "# Transform the outcome (life expectancy) and make new variable ('TransformedLife')\n",
    "totaldf['TransformedLife'] = np.sqrt((max(totaldf['LifeExpectancy']) + 1) - totaldf['LifeExpectancy'])\n",
    "\n",
    "# Standardise the predictors\n",
    "for i in list(totaldf.columns.values)[2:14]:\n",
    "    totaldf['%s' % i] = (totaldf['%s' % i] - totaldf['%s' % i].mean()) / totaldf['%s' %i].std()"
   ]
  },
  {
   "cell_type": "markdown",
   "metadata": {},
   "source": [
    "## Evaluating the correct alpha level\n",
    "\n",
    "The method of evaluating the fit of LASSO regressions at various levels of alpha was taken from [this blog post](http://www.analyticsvidhya.com/blog/2016/01/complete-tutorial-ridge-lasso-regression-python/). The model I selected was at an alpha of 0.001, as it was the most parsimonious model with the lowest RSS. Below is the code I adapted from this blog post, which produces a table of the coefficients and RSS's at each of 10 levels of alpha."
   ]
  },
  {
   "cell_type": "code",
   "execution_count": null,
   "metadata": {
    "collapsed": true
   },
   "outputs": [],
   "source": [
    "def lasso_regression(data, predictors, alpha):\n",
    "    #Fit the model\n",
    "    lassoreg = Lasso(alpha=alpha,normalize=True, max_iter=1e5)\n",
    "    lassoreg.fit(data[predictors],data['TransformedLife'])\n",
    "    y_pred = lassoreg.predict(data[predictors])\n",
    "    \n",
    "    #Return the result in pre-defined format\n",
    "    rss = sum((y_pred-data['TransformedLife'])**2)\n",
    "    ret = [rss]\n",
    "    ret.extend([lassoreg.intercept_])\n",
    "    ret.extend(lassoreg.coef_)\n",
    "    return ret\n",
    "\n",
    "predictors = list(totaldf.columns.values)[2:14]\n",
    "\n",
    "alpha_lasso = [1e-15, 1e-10, 1e-8, 1e-5,1e-4, 1e-3,1e-2, 1, 5, 10]\n",
    "\n",
    "col = ['rss','intercept'] + list(totaldf.columns.values)[2:14]\n",
    "ind = ['alpha_%.2g'%alpha_lasso[i] for i in range(0,10)]\n",
    "coef_matrix_lasso = pd.DataFrame(index=ind, columns=col)\n",
    "\n",
    "for i in range(10):\n",
    "    coef_matrix_lasso.iloc[i,] = lasso_regression(totaldf, predictors, alpha_lasso[i])\n",
    "\n",
    "coef_matrix_lasso"
   ]
  },
  {
   "cell_type": "markdown",
   "metadata": {},
   "source": [
    "## Producing the results of the final LASSO model\n",
    "\n",
    "Finally, having selected a model with an alpha of 0.001, I will print out the:\n",
    "* Model coefficients\n",
    "* RSS\n",
    "* Predicted life expectancy.\n",
    "\n",
    "Note that the predicted life expectancy and RSS is for the **training** data, as there was not enough sample for a test set. As such, it is likely an overfit. Also, remember that as the outcome was transformed to fit the model, the predicted values need to be back-transformed to be interpretable."
   ]
  },
  {
   "cell_type": "code",
   "execution_count": null,
   "metadata": {
    "collapsed": true
   },
   "outputs": [],
   "source": [
    "# Produce the model RSS, coefficients and predicted life expectancy\n",
    "lassoreg = Lasso(alpha=0.001, normalize=True, max_iter=1e5)\n",
    "lassoreg.fit(totaldf[list(totaldf.columns.values)[2:14]], totaldf['TransformedLife'])\n",
    "rss = sum((y_pred-totaldf['TransformedLife'])**2)\n",
    "ret = [rss]\n",
    "ret.extend([lassoreg.intercept_])\n",
    "ret.extend(lassoreg.coef_)\n",
    "\n",
    "# Print out the coefficients of the model:\n",
    "print(\"Model coefficients\")\n",
    "print({key:value for key, value in zip(list(totaldf.columns.values)[2:14], [round(elem, 2) for elem in ret])})\n",
    "\n",
    "# RSS:\n",
    "print(\"\\nModel RSS\")\n",
    "print(rss)\n",
    "\n",
    "# Predicted life expectancy on same data\n",
    "print(\"\\nPredicted values by country\")\n",
    "print({key:value for key, value in zip(list(totaldf['Country']),\n",
    "                                 [round(elem, 1) for elem in (max(totaldf['LifeExpectancy']) + 1) - (y_pred**2)])})"
   ]
  }
 ],
 "metadata": {
  "kernelspec": {
   "display_name": "Python 2",
   "language": "python",
   "name": "python2"
  },
  "language_info": {
   "codemirror_mode": {
    "name": "ipython",
    "version": 2
   },
   "file_extension": ".py",
   "mimetype": "text/x-python",
   "name": "python",
   "nbconvert_exporter": "python",
   "pygments_lexer": "ipython2",
   "version": "2.7.11"
  }
 },
 "nbformat": 4,
 "nbformat_minor": 0
}
